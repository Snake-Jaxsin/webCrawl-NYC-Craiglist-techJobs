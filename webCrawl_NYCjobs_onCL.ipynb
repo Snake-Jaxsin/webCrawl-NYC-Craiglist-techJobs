{
 "cells": [
  {
   "cell_type": "markdown",
   "metadata": {},
   "source": [
    "# This is a webCrawl project\n",
    "# Gathering craigsList Tech Employement Data."
   ]
  },
  {
   "cell_type": "code",
   "execution_count": 44,
   "metadata": {},
   "outputs": [],
   "source": [
    "from bs4 import BeautifulSoup\n",
    "import requests \n",
    "import pandas as pd"
   ]
  },
  {
   "cell_type": "code",
   "execution_count": 45,
   "metadata": {},
   "outputs": [],
   "source": [
    "url = \"https://newyork.craigslist.org/search/npo\""
   ]
  },
  {
   "cell_type": "code",
   "execution_count": 46,
   "metadata": {},
   "outputs": [
    {
     "name": "stdout",
     "output_type": "stream",
     "text": [
      "Total Jobs: 120\n"
     ]
    }
   ],
   "source": [
    "npo_jobs = {}\n",
    "job_no = 0\n",
    "while True:\n",
    "    \n",
    "    response = requests.get(url)\n",
    "    data = response.text\n",
    "    soup = BeautifulSoup(data,'html.parser')\n",
    "    jobs = soup.find_all('p',{'class':'result-info'})\n",
    "    \n",
    "    for job in jobs:\n",
    "        \n",
    "        title = job.find('a',{'class':'result-title'}).text\n",
    "        location_tag = job.find('span',{'class':'result-hood'})\n",
    "        location = location_tag.text[2:-1] if location_tag else \"N/A\"\n",
    "        date = job.find('time', {'class': 'result-date'}).text\n",
    "        link = job.find('a', {'class': 'result-title'}).get('href')\n",
    "        \n",
    "        job_response = requests.get(link)\n",
    "        job_data = job_response.text\n",
    "        job_soup = BeautifulSoup(job_data, 'html.parser')\n",
    "        job_description = job_soup.find('section',{'id':'postingbody'}).text\n",
    "        job_attributes_tag = job_soup.find('p',{'class':'attrgroup'})\n",
    "        job_attributes = job_attributes_tag.text if job_attributes_tag else \"N/A\"\n",
    "        \n",
    "        job_no+=1\n",
    "        npo_jobs[job_no] = [title, location, date, link, job_attributes, job_description]\n",
    "        \n",
    "        \n",
    "#       print('Job Title:', title, '\\nLocation:', location, '\\nDate:', date, '\\nLink:', link,\"\\n\", job_attributes, '\\nJob Description:', job_description,'\\n---')\n",
    "        \n",
    "    url_tag = soup.find('a',{'title':'next page'})\n",
    "    if url_tag.get('href'):\n",
    "        url= 'https://newyork.craigslist.org' + url_tag.get('href')\n",
    "        print(url)\n",
    "    else:\n",
    "        break\n",
    "        \n",
    "print(\"Total Jobs:\", job_no)\n",
    "npo_jobs_df = pd.DataFrame.from_dict(npo_jobs, orient = 'index', columns = ['Job Title','Location','Date', 'Link', 'Job Attributes', 'Job Description'])"
   ]
  },
  {
   "cell_type": "code",
   "execution_count": 47,
   "metadata": {},
   "outputs": [
    {
     "data": {
      "text/html": [
       "<div>\n",
       "<style scoped>\n",
       "    .dataframe tbody tr th:only-of-type {\n",
       "        vertical-align: middle;\n",
       "    }\n",
       "\n",
       "    .dataframe tbody tr th {\n",
       "        vertical-align: top;\n",
       "    }\n",
       "\n",
       "    .dataframe thead th {\n",
       "        text-align: right;\n",
       "    }\n",
       "</style>\n",
       "<table border=\"1\" class=\"dataframe\">\n",
       "  <thead>\n",
       "    <tr style=\"text-align: right;\">\n",
       "      <th></th>\n",
       "      <th>Job Title</th>\n",
       "      <th>Location</th>\n",
       "      <th>Date</th>\n",
       "      <th>Link</th>\n",
       "      <th>Job Attributes</th>\n",
       "      <th>Job Description</th>\n",
       "    </tr>\n",
       "  </thead>\n",
       "  <tbody>\n",
       "    <tr>\n",
       "      <th>1</th>\n",
       "      <td>Program Facilitator</td>\n",
       "      <td>New York, NY</td>\n",
       "      <td>Jan  5</td>\n",
       "      <td>https://newyork.craigslist.org/mnh/npo/d/new-y...</td>\n",
       "      <td>\\ncompensation: $65-$100 per day\\n\\nemployment...</td>\n",
       "      <td>\\n\\nQR Code Link to This Post\\n\\n\\nAbout Front...</td>\n",
       "    </tr>\n",
       "    <tr>\n",
       "      <th>2</th>\n",
       "      <td>JOB PLACEMENT; PAID INTERNSHIP, TRAINING $$ AN...</td>\n",
       "      <td>ALL 5 BORO'S</td>\n",
       "      <td>Jan  4</td>\n",
       "      <td>https://newyork.craigslist.org/brx/npo/d/bronx...</td>\n",
       "      <td>\\ncompensation: Paid Internship $1,500 and Emp...</td>\n",
       "      <td>\\n\\nQR Code Link to This Post\\n\\n\\nECKERD CONN...</td>\n",
       "    </tr>\n",
       "    <tr>\n",
       "      <th>3</th>\n",
       "      <td>CAMPAIGN JOBS! $17-$19/HOUR, OT, BONUSES! HIRI...</td>\n",
       "      <td>Brooklyn</td>\n",
       "      <td>Jan  4</td>\n",
       "      <td>https://newyork.craigslist.org/brk/npo/d/brook...</td>\n",
       "      <td>\\ncompensation: $17-$19 per hour\\n\\nemployment...</td>\n",
       "      <td>\\n\\nQR Code Link to This Post\\n\\n\\n\\nCall Camp...</td>\n",
       "    </tr>\n",
       "    <tr>\n",
       "      <th>4</th>\n",
       "      <td>CAMPAIGN JOBS! $17-$19/HOUR, OT, BONUSES! HIRI...</td>\n",
       "      <td>Flushing</td>\n",
       "      <td>Jan  4</td>\n",
       "      <td>https://newyork.craigslist.org/que/npo/d/flush...</td>\n",
       "      <td>\\ncompensation: $17-$19 per hour\\n\\nemployment...</td>\n",
       "      <td>\\n\\nQR Code Link to This Post\\n\\n\\n\\nCall Camp...</td>\n",
       "    </tr>\n",
       "    <tr>\n",
       "      <th>5</th>\n",
       "      <td>Join the Fight Against Poverty(BKnpo)</td>\n",
       "      <td>N/A</td>\n",
       "      <td>Jan  3</td>\n",
       "      <td>https://newyork.craigslist.org/brk/npo/d/new-y...</td>\n",
       "      <td>\\ncompensation: 15-22/hr*\\n\\nemployment type: ...</td>\n",
       "      <td>\\n\\nQR Code Link to This Post\\n\\n\\nUp-Fundrais...</td>\n",
       "    </tr>\n",
       "  </tbody>\n",
       "</table>\n",
       "</div>"
      ],
      "text/plain": [
       "                                           Job Title      Location    Date  \\\n",
       "1                                Program Facilitator  New York, NY  Jan  5   \n",
       "2  JOB PLACEMENT; PAID INTERNSHIP, TRAINING $$ AN...  ALL 5 BORO'S  Jan  4   \n",
       "3  CAMPAIGN JOBS! $17-$19/HOUR, OT, BONUSES! HIRI...      Brooklyn  Jan  4   \n",
       "4  CAMPAIGN JOBS! $17-$19/HOUR, OT, BONUSES! HIRI...      Flushing  Jan  4   \n",
       "5              Join the Fight Against Poverty(BKnpo)           N/A  Jan  3   \n",
       "\n",
       "                                                Link  \\\n",
       "1  https://newyork.craigslist.org/mnh/npo/d/new-y...   \n",
       "2  https://newyork.craigslist.org/brx/npo/d/bronx...   \n",
       "3  https://newyork.craigslist.org/brk/npo/d/brook...   \n",
       "4  https://newyork.craigslist.org/que/npo/d/flush...   \n",
       "5  https://newyork.craigslist.org/brk/npo/d/new-y...   \n",
       "\n",
       "                                      Job Attributes  \\\n",
       "1  \\ncompensation: $65-$100 per day\\n\\nemployment...   \n",
       "2  \\ncompensation: Paid Internship $1,500 and Emp...   \n",
       "3  \\ncompensation: $17-$19 per hour\\n\\nemployment...   \n",
       "4  \\ncompensation: $17-$19 per hour\\n\\nemployment...   \n",
       "5  \\ncompensation: 15-22/hr*\\n\\nemployment type: ...   \n",
       "\n",
       "                                     Job Description  \n",
       "1  \\n\\nQR Code Link to This Post\\n\\n\\nAbout Front...  \n",
       "2  \\n\\nQR Code Link to This Post\\n\\n\\nECKERD CONN...  \n",
       "3  \\n\\nQR Code Link to This Post\\n\\n\\n\\nCall Camp...  \n",
       "4  \\n\\nQR Code Link to This Post\\n\\n\\n\\nCall Camp...  \n",
       "5  \\n\\nQR Code Link to This Post\\n\\n\\nUp-Fundrais...  "
      ]
     },
     "execution_count": 47,
     "metadata": {},
     "output_type": "execute_result"
    }
   ],
   "source": [
    "npo_jobs_df.head()"
   ]
  },
  {
   "cell_type": "code",
   "execution_count": 48,
   "metadata": {},
   "outputs": [],
   "source": [
    "npo_jobs_df.to_csv('npo_jobs.csv')"
   ]
  }
 ],
 "metadata": {
  "kernelspec": {
   "display_name": "Python 3",
   "language": "python",
   "name": "python3"
  },
  "language_info": {
   "codemirror_mode": {
    "name": "ipython",
    "version": 3
   },
   "file_extension": ".py",
   "mimetype": "text/x-python",
   "name": "python",
   "nbconvert_exporter": "python",
   "pygments_lexer": "ipython3",
   "version": "3.7.5"
  }
 },
 "nbformat": 4,
 "nbformat_minor": 2
}
